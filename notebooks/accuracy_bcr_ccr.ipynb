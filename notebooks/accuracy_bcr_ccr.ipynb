{
 "cells": [
  {
   "cell_type": "code",
   "execution_count": 1,
   "id": "42f7d3a6",
   "metadata": {},
   "outputs": [],
   "source": [
    "import pandas as pd"
   ]
  },
  {
   "cell_type": "code",
   "execution_count": 2,
   "id": "918256aa",
   "metadata": {},
   "outputs": [
    {
     "data": {
      "text/html": [
       "<div>\n",
       "<style scoped>\n",
       "    .dataframe tbody tr th:only-of-type {\n",
       "        vertical-align: middle;\n",
       "    }\n",
       "\n",
       "    .dataframe tbody tr th {\n",
       "        vertical-align: top;\n",
       "    }\n",
       "\n",
       "    .dataframe thead th {\n",
       "        text-align: right;\n",
       "    }\n",
       "</style>\n",
       "<table border=\"1\" class=\"dataframe\">\n",
       "  <thead>\n",
       "    <tr style=\"text-align: right;\">\n",
       "      <th></th>\n",
       "      <th>Name</th>\n",
       "      <th>ID</th>\n",
       "      <th>Bet-Cent Rank Score</th>\n",
       "    </tr>\n",
       "  </thead>\n",
       "  <tbody>\n",
       "    <tr>\n",
       "      <th>0</th>\n",
       "      <td>deepikapadukone</td>\n",
       "      <td>101695592.0</td>\n",
       "      <td>0.195826</td>\n",
       "    </tr>\n",
       "    <tr>\n",
       "      <th>1</th>\n",
       "      <td>tomhanks</td>\n",
       "      <td>50374439.0</td>\n",
       "      <td>0.060643</td>\n",
       "    </tr>\n",
       "    <tr>\n",
       "      <th>2</th>\n",
       "      <td>iamjohnoliver</td>\n",
       "      <td>316389142.0</td>\n",
       "      <td>0.052152</td>\n",
       "    </tr>\n",
       "    <tr>\n",
       "      <th>3</th>\n",
       "      <td>RobertDowneyJr</td>\n",
       "      <td>47786101.0</td>\n",
       "      <td>0.036332</td>\n",
       "    </tr>\n",
       "    <tr>\n",
       "      <th>4</th>\n",
       "      <td>Malala</td>\n",
       "      <td>937499232.0</td>\n",
       "      <td>0.034174</td>\n",
       "    </tr>\n",
       "  </tbody>\n",
       "</table>\n",
       "</div>"
      ],
      "text/plain": [
       "              Name           ID  Bet-Cent Rank Score\n",
       "0  deepikapadukone  101695592.0             0.195826\n",
       "1         tomhanks   50374439.0             0.060643\n",
       "2    iamjohnoliver  316389142.0             0.052152\n",
       "3   RobertDowneyJr   47786101.0             0.036332\n",
       "4           Malala  937499232.0             0.034174"
      ]
     },
     "execution_count": 2,
     "metadata": {},
     "output_type": "execute_result"
    }
   ],
   "source": [
    "bcr = pd.read_csv(\"./ranks/bcr_rank_output_NEW.csv\")\n",
    "bcr.head()"
   ]
  },
  {
   "cell_type": "code",
   "execution_count": 3,
   "id": "417afb68",
   "metadata": {},
   "outputs": [
    {
     "data": {
      "text/html": [
       "<div>\n",
       "<style scoped>\n",
       "    .dataframe tbody tr th:only-of-type {\n",
       "        vertical-align: middle;\n",
       "    }\n",
       "\n",
       "    .dataframe tbody tr th {\n",
       "        vertical-align: top;\n",
       "    }\n",
       "\n",
       "    .dataframe thead th {\n",
       "        text-align: right;\n",
       "    }\n",
       "</style>\n",
       "<table border=\"1\" class=\"dataframe\">\n",
       "  <thead>\n",
       "    <tr style=\"text-align: right;\">\n",
       "      <th></th>\n",
       "      <th>Name</th>\n",
       "      <th>ID</th>\n",
       "      <th>Bet-Cent Rank Score</th>\n",
       "    </tr>\n",
       "  </thead>\n",
       "  <tbody>\n",
       "    <tr>\n",
       "      <th>0</th>\n",
       "      <td>deepikapadukone</td>\n",
       "      <td>101695592.0</td>\n",
       "      <td>0.195826</td>\n",
       "    </tr>\n",
       "    <tr>\n",
       "      <th>1</th>\n",
       "      <td>tomhanks</td>\n",
       "      <td>50374439.0</td>\n",
       "      <td>0.060643</td>\n",
       "    </tr>\n",
       "    <tr>\n",
       "      <th>2</th>\n",
       "      <td>iamjohnoliver</td>\n",
       "      <td>316389142.0</td>\n",
       "      <td>0.052152</td>\n",
       "    </tr>\n",
       "    <tr>\n",
       "      <th>3</th>\n",
       "      <td>RobertDowneyJr</td>\n",
       "      <td>47786101.0</td>\n",
       "      <td>0.036332</td>\n",
       "    </tr>\n",
       "    <tr>\n",
       "      <th>4</th>\n",
       "      <td>Malala</td>\n",
       "      <td>937499232.0</td>\n",
       "      <td>0.034174</td>\n",
       "    </tr>\n",
       "  </tbody>\n",
       "</table>\n",
       "</div>"
      ],
      "text/plain": [
       "              Name           ID  Bet-Cent Rank Score\n",
       "0  deepikapadukone  101695592.0             0.195826\n",
       "1         tomhanks   50374439.0             0.060643\n",
       "2    iamjohnoliver  316389142.0             0.052152\n",
       "3   RobertDowneyJr   47786101.0             0.036332\n",
       "4           Malala  937499232.0             0.034174"
      ]
     },
     "execution_count": 3,
     "metadata": {},
     "output_type": "execute_result"
    }
   ],
   "source": [
    "bcr = bcr.sort_values(by=\"Bet-Cent Rank Score\", ascending=False)\n",
    "bcr.head()"
   ]
  },
  {
   "cell_type": "code",
   "execution_count": 4,
   "id": "148f6e83",
   "metadata": {},
   "outputs": [],
   "source": [
    "page_ranks = pd.read_csv(\"./ranks/page_rank_output.csv\")\n",
    "page_ranks = page_ranks.sort_values(by=\"Page Rank\", ascending=False)\n",
    "user_ranks = pd.read_csv(\"./ranks/user_rank_1_output.csv\")\n",
    "user_ranks = user_ranks.sort_values(by=\"User Rank(In)\", ascending=False)"
   ]
  },
  {
   "cell_type": "code",
   "execution_count": 5,
   "id": "49fccb4e",
   "metadata": {},
   "outputs": [],
   "source": [
    "def get_accuracy(test_df, pred_df):\n",
    "    test = []\n",
    "    pred = []\n",
    "    for i in range(100):\n",
    "        test.append(test_df['Name'][i])\n",
    "        pred.append(pred_df['Name'][i])\n",
    "        \n",
    "    count = 0\n",
    "    for i in test:\n",
    "        if i in pred:\n",
    "            count += 1\n",
    "    return count"
   ]
  },
  {
   "cell_type": "code",
   "execution_count": 6,
   "id": "af1bb20b",
   "metadata": {},
   "outputs": [
    {
     "data": {
      "text/plain": [
       "44"
      ]
     },
     "execution_count": 6,
     "metadata": {},
     "output_type": "execute_result"
    }
   ],
   "source": [
    "bcr_page_rank_acc = get_accuracy(page_ranks, bcr)\n",
    "bcr_page_rank_acc"
   ]
  },
  {
   "cell_type": "code",
   "execution_count": 7,
   "id": "9612f882",
   "metadata": {},
   "outputs": [
    {
     "data": {
      "text/plain": [
       "46"
      ]
     },
     "execution_count": 7,
     "metadata": {},
     "output_type": "execute_result"
    }
   ],
   "source": [
    "bcr_user_rank_acc = get_accuracy(user_ranks, bcr)\n",
    "bcr_user_rank_acc"
   ]
  },
  {
   "cell_type": "markdown",
   "id": "3e636ded",
   "metadata": {},
   "source": [
    "# ccr"
   ]
  },
  {
   "cell_type": "code",
   "execution_count": 8,
   "id": "04101f6e",
   "metadata": {},
   "outputs": [
    {
     "data": {
      "text/html": [
       "<div>\n",
       "<style scoped>\n",
       "    .dataframe tbody tr th:only-of-type {\n",
       "        vertical-align: middle;\n",
       "    }\n",
       "\n",
       "    .dataframe tbody tr th {\n",
       "        vertical-align: top;\n",
       "    }\n",
       "\n",
       "    .dataframe thead th {\n",
       "        text-align: right;\n",
       "    }\n",
       "</style>\n",
       "<table border=\"1\" class=\"dataframe\">\n",
       "  <thead>\n",
       "    <tr style=\"text-align: right;\">\n",
       "      <th></th>\n",
       "      <th>Name</th>\n",
       "      <th>ID</th>\n",
       "      <th>Cls-Cent Rank Score</th>\n",
       "    </tr>\n",
       "  </thead>\n",
       "  <tbody>\n",
       "    <tr>\n",
       "      <th>0</th>\n",
       "      <td>deepikapadukone</td>\n",
       "      <td>101695592.0</td>\n",
       "      <td>0.373092</td>\n",
       "    </tr>\n",
       "    <tr>\n",
       "      <th>1</th>\n",
       "      <td>tomhanks</td>\n",
       "      <td>50374439.0</td>\n",
       "      <td>0.340883</td>\n",
       "    </tr>\n",
       "    <tr>\n",
       "      <th>2</th>\n",
       "      <td>Malala</td>\n",
       "      <td>937499232.0</td>\n",
       "      <td>0.334121</td>\n",
       "    </tr>\n",
       "    <tr>\n",
       "      <th>3</th>\n",
       "      <td>iamjohnoliver</td>\n",
       "      <td>316389142.0</td>\n",
       "      <td>0.328937</td>\n",
       "    </tr>\n",
       "    <tr>\n",
       "      <th>4</th>\n",
       "      <td>iamvasanth93</td>\n",
       "      <td>302119623.0</td>\n",
       "      <td>0.328904</td>\n",
       "    </tr>\n",
       "  </tbody>\n",
       "</table>\n",
       "</div>"
      ],
      "text/plain": [
       "              Name           ID  Cls-Cent Rank Score\n",
       "0  deepikapadukone  101695592.0             0.373092\n",
       "1         tomhanks   50374439.0             0.340883\n",
       "2           Malala  937499232.0             0.334121\n",
       "3    iamjohnoliver  316389142.0             0.328937\n",
       "4     iamvasanth93  302119623.0             0.328904"
      ]
     },
     "execution_count": 8,
     "metadata": {},
     "output_type": "execute_result"
    }
   ],
   "source": [
    "ccr = pd.read_csv(\"./ranks/ccr_rank_output_NEW.csv\")\n",
    "ccr.head()"
   ]
  },
  {
   "cell_type": "code",
   "execution_count": 9,
   "id": "df04ccc2",
   "metadata": {},
   "outputs": [
    {
     "data": {
      "text/html": [
       "<div>\n",
       "<style scoped>\n",
       "    .dataframe tbody tr th:only-of-type {\n",
       "        vertical-align: middle;\n",
       "    }\n",
       "\n",
       "    .dataframe tbody tr th {\n",
       "        vertical-align: top;\n",
       "    }\n",
       "\n",
       "    .dataframe thead th {\n",
       "        text-align: right;\n",
       "    }\n",
       "</style>\n",
       "<table border=\"1\" class=\"dataframe\">\n",
       "  <thead>\n",
       "    <tr style=\"text-align: right;\">\n",
       "      <th></th>\n",
       "      <th>Name</th>\n",
       "      <th>ID</th>\n",
       "      <th>Cls-Cent Rank Score</th>\n",
       "    </tr>\n",
       "  </thead>\n",
       "  <tbody>\n",
       "    <tr>\n",
       "      <th>0</th>\n",
       "      <td>deepikapadukone</td>\n",
       "      <td>1.016956e+08</td>\n",
       "      <td>0.373092</td>\n",
       "    </tr>\n",
       "    <tr>\n",
       "      <th>1</th>\n",
       "      <td>tomhanks</td>\n",
       "      <td>5.037444e+07</td>\n",
       "      <td>0.340883</td>\n",
       "    </tr>\n",
       "    <tr>\n",
       "      <th>2</th>\n",
       "      <td>Malala</td>\n",
       "      <td>9.374992e+08</td>\n",
       "      <td>0.334121</td>\n",
       "    </tr>\n",
       "    <tr>\n",
       "      <th>3</th>\n",
       "      <td>iamjohnoliver</td>\n",
       "      <td>3.163891e+08</td>\n",
       "      <td>0.328937</td>\n",
       "    </tr>\n",
       "    <tr>\n",
       "      <th>4</th>\n",
       "      <td>iamvasanth93</td>\n",
       "      <td>3.021196e+08</td>\n",
       "      <td>0.328904</td>\n",
       "    </tr>\n",
       "    <tr>\n",
       "      <th>...</th>\n",
       "      <td>...</td>\n",
       "      <td>...</td>\n",
       "      <td>...</td>\n",
       "    </tr>\n",
       "    <tr>\n",
       "      <th>7647</th>\n",
       "      <td>Nise_Gel</td>\n",
       "      <td>2.278568e+09</td>\n",
       "      <td>0.000000</td>\n",
       "    </tr>\n",
       "    <tr>\n",
       "      <th>7648</th>\n",
       "      <td>FindBestVenue</td>\n",
       "      <td>2.278993e+09</td>\n",
       "      <td>0.000000</td>\n",
       "    </tr>\n",
       "    <tr>\n",
       "      <th>7649</th>\n",
       "      <td>Anj_souldeli</td>\n",
       "      <td>2.279508e+09</td>\n",
       "      <td>0.000000</td>\n",
       "    </tr>\n",
       "    <tr>\n",
       "      <th>7650</th>\n",
       "      <td>DrinkKava</td>\n",
       "      <td>2.298086e+09</td>\n",
       "      <td>0.000000</td>\n",
       "    </tr>\n",
       "    <tr>\n",
       "      <th>8113</th>\n",
       "      <td>nmurugan</td>\n",
       "      <td>9.986872e+07</td>\n",
       "      <td>0.000000</td>\n",
       "    </tr>\n",
       "  </tbody>\n",
       "</table>\n",
       "<p>8114 rows × 3 columns</p>\n",
       "</div>"
      ],
      "text/plain": [
       "                 Name            ID  Cls-Cent Rank Score\n",
       "0     deepikapadukone  1.016956e+08             0.373092\n",
       "1            tomhanks  5.037444e+07             0.340883\n",
       "2              Malala  9.374992e+08             0.334121\n",
       "3       iamjohnoliver  3.163891e+08             0.328937\n",
       "4        iamvasanth93  3.021196e+08             0.328904\n",
       "...               ...           ...                  ...\n",
       "7647         Nise_Gel  2.278568e+09             0.000000\n",
       "7648    FindBestVenue  2.278993e+09             0.000000\n",
       "7649     Anj_souldeli  2.279508e+09             0.000000\n",
       "7650        DrinkKava  2.298086e+09             0.000000\n",
       "8113         nmurugan  9.986872e+07             0.000000\n",
       "\n",
       "[8114 rows x 3 columns]"
      ]
     },
     "execution_count": 9,
     "metadata": {},
     "output_type": "execute_result"
    }
   ],
   "source": [
    "ccr = ccr.sort_values(by=\"Cls-Cent Rank Score\", ascending=False)\n",
    "ccr"
   ]
  },
  {
   "cell_type": "code",
   "execution_count": 10,
   "id": "f5bb9da6",
   "metadata": {},
   "outputs": [
    {
     "data": {
      "text/plain": [
       "21"
      ]
     },
     "execution_count": 10,
     "metadata": {},
     "output_type": "execute_result"
    }
   ],
   "source": [
    "ccr_page_rank_acc = get_accuracy(page_ranks, ccr)\n",
    "ccr_page_rank_acc"
   ]
  },
  {
   "cell_type": "code",
   "execution_count": 11,
   "id": "0a818145",
   "metadata": {},
   "outputs": [
    {
     "data": {
      "text/plain": [
       "19"
      ]
     },
     "execution_count": 11,
     "metadata": {},
     "output_type": "execute_result"
    }
   ],
   "source": [
    "ccr_user_rank_acc = get_accuracy(user_ranks, ccr)\n",
    "ccr_user_rank_acc"
   ]
  },
  {
   "cell_type": "code",
   "execution_count": null,
   "id": "2dbbdbde",
   "metadata": {},
   "outputs": [],
   "source": []
  }
 ],
 "metadata": {
  "kernelspec": {
   "display_name": "Python 3",
   "language": "python",
   "name": "python3"
  },
  "language_info": {
   "codemirror_mode": {
    "name": "ipython",
    "version": 3
   },
   "file_extension": ".py",
   "mimetype": "text/x-python",
   "name": "python",
   "nbconvert_exporter": "python",
   "pygments_lexer": "ipython3",
   "version": "3.8.8"
  }
 },
 "nbformat": 4,
 "nbformat_minor": 5
}
