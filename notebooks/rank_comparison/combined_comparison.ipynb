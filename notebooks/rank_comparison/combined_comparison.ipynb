{
 "cells": [
  {
   "cell_type": "code",
   "execution_count": 1,
   "id": "0a126683",
   "metadata": {},
   "outputs": [],
   "source": [
    "import pandas as pd\n",
    "import os"
   ]
  },
  {
   "cell_type": "code",
   "execution_count": 2,
   "id": "919c81fd",
   "metadata": {},
   "outputs": [],
   "source": [
    "input_path = \"./out/\"\n",
    "out_path = \"./out/\"\n",
    "files = os.listdir(input_path)"
   ]
  },
  {
   "cell_type": "code",
   "execution_count": 3,
   "id": "302c8e40",
   "metadata": {},
   "outputs": [],
   "source": [
    "df1 = pd.read_csv(input_path+files[0])"
   ]
  },
  {
   "cell_type": "code",
   "execution_count": 4,
   "id": "25e2f2f4",
   "metadata": {},
   "outputs": [
    {
     "data": {
      "text/plain": [
       "['Followers',\n",
       " 'Following',\n",
       " 'Follower/Following Ratio',\n",
       " 'Total Status',\n",
       " 'Retweet Count',\n",
       " 'Total Favourites',\n",
       " 'Avg. Tweet Rate(per Month)',\n",
       " 'Avg. Retweet Rate(per Month)',\n",
       " 'Avg. Reply Rate(per Month)',\n",
       " 'Total Normal Tweets',\n",
       " 'Total Retweets',\n",
       " 'Total Replies',\n",
       " 'Total Quotes',\n",
       " 'Avg. Fav Count(per Month)',\n",
       " 'Avg. Retweeted Count(per Month)',\n",
       " 'Avg. Quote Count(per Month)']"
      ]
     },
     "execution_count": 4,
     "metadata": {},
     "output_type": "execute_result"
    }
   ],
   "source": [
    "total_features_list = df1['Col'].to_list()\n",
    "total_features_list"
   ]
  },
  {
   "cell_type": "code",
   "execution_count": 5,
   "id": "34beae60",
   "metadata": {},
   "outputs": [],
   "source": [
    "def initialize_df(first_column_name):\n",
    "    columns = [first_column_name]\n",
    "    [columns.append(f\"range{i}\") for i in range(1, 9)]\n",
    "    df = pd.DataFrame(columns=columns)\n",
    "    return df"
   ]
  },
  {
   "cell_type": "code",
   "execution_count": 6,
   "id": "cb74a9d0",
   "metadata": {},
   "outputs": [],
   "source": [
    "# for i in range(0, len(files)):\n",
    "#     print(i)\n",
    "#     df = pd.read_csv(input_path+files[i])\n",
    "    \n",
    "#     row = [\"bcr\"]\n",
    "#     row.extend(list(df.loc[0])[1:])\n",
    "\n",
    "#     out_df.loc[len(out_df.index)] = row\n",
    "#     print(files[i])\n",
    "#     break"
   ]
  },
  {
   "cell_type": "code",
   "execution_count": 7,
   "id": "a3bf7d53",
   "metadata": {},
   "outputs": [],
   "source": [
    "for j in range(0, len(total_features_list)):\n",
    "    out_df = initialize_df(first_column_name=\"Rank\")\n",
    "\n",
    "    for i in range(0, len(files)):\n",
    "        df = pd.read_csv(input_path+files[i])\n",
    "\n",
    "        row = [files[i].replace(\".csv\", '')]\n",
    "        row.extend(list(df.loc[j])[1:])\n",
    "\n",
    "        out_df.loc[len(out_df.index)] = row\n",
    "    out_df.to_csv(f\"out_2/{total_features_list[j].replace(' ', '_').replace('/', '_')}.csv\", index=False)\n"
   ]
  },
  {
   "cell_type": "code",
   "execution_count": null,
   "id": "c543e04d",
   "metadata": {},
   "outputs": [],
   "source": []
  }
 ],
 "metadata": {
  "kernelspec": {
   "display_name": "Python 3",
   "language": "python",
   "name": "python3"
  },
  "language_info": {
   "codemirror_mode": {
    "name": "ipython",
    "version": 3
   },
   "file_extension": ".py",
   "mimetype": "text/x-python",
   "name": "python",
   "nbconvert_exporter": "python",
   "pygments_lexer": "ipython3",
   "version": "3.8.8"
  }
 },
 "nbformat": 4,
 "nbformat_minor": 5
}
