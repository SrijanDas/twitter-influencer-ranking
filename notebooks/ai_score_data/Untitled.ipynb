{
 "cells": [
  {
   "cell_type": "code",
   "execution_count": 1,
   "id": "37c31a13",
   "metadata": {},
   "outputs": [],
   "source": [
    "import pandas as pd\n",
    "import os"
   ]
  },
  {
   "cell_type": "code",
   "execution_count": 2,
   "id": "38787946",
   "metadata": {},
   "outputs": [
    {
     "data": {
      "text/plain": [
       "['bcr_rank_output_NEW.csv',\n",
       " 'ccr_rank_output_NEW.csv',\n",
       " 'page_rank_output.csv',\n",
       " 'sir_v2.csv',\n",
       " 'user_rank_1_output.csv']"
      ]
     },
     "execution_count": 2,
     "metadata": {},
     "output_type": "execute_result"
    }
   ],
   "source": [
    "rank_files = os.listdir(\"../ranks/\")\n",
    "rank_files"
   ]
  },
  {
   "cell_type": "code",
   "execution_count": 3,
   "id": "8dab7f33",
   "metadata": {},
   "outputs": [],
   "source": [
    "user_list = []\n",
    "\n",
    "for file in rank_files:\n",
    "    df = pd.read_csv(\"../ranks/\"+file)\n",
    "    \n",
    "    for i in df.iloc[:, 0][:100]:\n",
    "        if i not in user_list:\n",
    "            user_list.append(i)"
   ]
  },
  {
   "cell_type": "code",
   "execution_count": 4,
   "id": "a384d345",
   "metadata": {},
   "outputs": [
    {
     "data": {
      "text/plain": [
       "309"
      ]
     },
     "execution_count": 4,
     "metadata": {},
     "output_type": "execute_result"
    }
   ],
   "source": [
    "len(user_list)"
   ]
  },
  {
   "cell_type": "code",
   "execution_count": 5,
   "id": "b2117931",
   "metadata": {},
   "outputs": [
    {
     "data": {
      "text/plain": [
       "48167"
      ]
     },
     "execution_count": 5,
     "metadata": {},
     "output_type": "execute_result"
    }
   ],
   "source": [
    "tweet_files = os.listdir(\"../../feature-extraction/data/\")\n",
    "len(tweet_files)"
   ]
  },
  {
   "cell_type": "code",
   "execution_count": 6,
   "id": "8be5af39",
   "metadata": {},
   "outputs": [
    {
     "data": {
      "text/plain": [
       "'001Danish'"
      ]
     },
     "execution_count": 6,
     "metadata": {},
     "output_type": "execute_result"
    }
   ],
   "source": [
    "tweet_files[0].replace(\"_tweets.csv\", \"\")"
   ]
  },
  {
   "cell_type": "code",
   "execution_count": 7,
   "id": "1374a864",
   "metadata": {},
   "outputs": [],
   "source": [
    "import random"
   ]
  },
  {
   "cell_type": "code",
   "execution_count": 8,
   "id": "a146cbda",
   "metadata": {},
   "outputs": [],
   "source": [
    "# for i in range(0, 691):\n",
    "#     filename = random.choice(tweet_files)\n",
    "#     username = filename.replace(\"_tweets.csv\", \"\")\n",
    "    \n",
    "#     if username not in user_list:\n",
    "#         user_list.append(username)"
   ]
  },
  {
   "cell_type": "code",
   "execution_count": 9,
   "id": "c71d4b9d",
   "metadata": {},
   "outputs": [],
   "source": [
    "j = 0\n",
    "while j< 691:\n",
    "    filename = random.choice(tweet_files)\n",
    "    username = filename.replace(\"_tweets.csv\", \"\")\n",
    "    \n",
    "    if username not in user_list:\n",
    "        user_list.append(username)\n",
    "        j+=1"
   ]
  },
  {
   "cell_type": "code",
   "execution_count": 10,
   "id": "bc97167c",
   "metadata": {},
   "outputs": [
    {
     "data": {
      "text/plain": [
       "1000"
      ]
     },
     "execution_count": 10,
     "metadata": {},
     "output_type": "execute_result"
    }
   ],
   "source": [
    "len(user_list)"
   ]
  },
  {
   "cell_type": "code",
   "execution_count": 11,
   "id": "0e757379",
   "metadata": {},
   "outputs": [
    {
     "data": {
      "text/html": [
       "<div>\n",
       "<style scoped>\n",
       "    .dataframe tbody tr th:only-of-type {\n",
       "        vertical-align: middle;\n",
       "    }\n",
       "\n",
       "    .dataframe tbody tr th {\n",
       "        vertical-align: top;\n",
       "    }\n",
       "\n",
       "    .dataframe thead th {\n",
       "        text-align: right;\n",
       "    }\n",
       "</style>\n",
       "<table border=\"1\" class=\"dataframe\">\n",
       "  <thead>\n",
       "    <tr style=\"text-align: right;\">\n",
       "      <th></th>\n",
       "      <th>username</th>\n",
       "    </tr>\n",
       "  </thead>\n",
       "  <tbody>\n",
       "    <tr>\n",
       "      <th>0</th>\n",
       "      <td>deepikapadukone</td>\n",
       "    </tr>\n",
       "    <tr>\n",
       "      <th>1</th>\n",
       "      <td>tomhanks</td>\n",
       "    </tr>\n",
       "    <tr>\n",
       "      <th>2</th>\n",
       "      <td>iamjohnoliver</td>\n",
       "    </tr>\n",
       "    <tr>\n",
       "      <th>3</th>\n",
       "      <td>RobertDowneyJr</td>\n",
       "    </tr>\n",
       "    <tr>\n",
       "      <th>4</th>\n",
       "      <td>Malala</td>\n",
       "    </tr>\n",
       "    <tr>\n",
       "      <th>...</th>\n",
       "      <td>...</td>\n",
       "    </tr>\n",
       "    <tr>\n",
       "      <th>995</th>\n",
       "      <td>tacio_berto</td>\n",
       "    </tr>\n",
       "    <tr>\n",
       "      <th>996</th>\n",
       "      <td>glsnayldz</td>\n",
       "    </tr>\n",
       "    <tr>\n",
       "      <th>997</th>\n",
       "      <td>grcpim</td>\n",
       "    </tr>\n",
       "    <tr>\n",
       "      <th>998</th>\n",
       "      <td>munira_</td>\n",
       "    </tr>\n",
       "    <tr>\n",
       "      <th>999</th>\n",
       "      <td>AalimJaveri</td>\n",
       "    </tr>\n",
       "  </tbody>\n",
       "</table>\n",
       "<p>1000 rows × 1 columns</p>\n",
       "</div>"
      ],
      "text/plain": [
       "            username\n",
       "0    deepikapadukone\n",
       "1           tomhanks\n",
       "2      iamjohnoliver\n",
       "3     RobertDowneyJr\n",
       "4             Malala\n",
       "..               ...\n",
       "995      tacio_berto\n",
       "996        glsnayldz\n",
       "997           grcpim\n",
       "998          munira_\n",
       "999      AalimJaveri\n",
       "\n",
       "[1000 rows x 1 columns]"
      ]
     },
     "execution_count": 11,
     "metadata": {},
     "output_type": "execute_result"
    }
   ],
   "source": [
    "out_df = pd.DataFrame(data={\"username\": user_list})\n",
    "out_df"
   ]
  },
  {
   "cell_type": "code",
   "execution_count": 12,
   "id": "c2351e48",
   "metadata": {},
   "outputs": [],
   "source": [
    "out_df.to_csv(\"userList.csv\", index=False)"
   ]
  },
  {
   "cell_type": "code",
   "execution_count": null,
   "id": "5ba4a68f",
   "metadata": {},
   "outputs": [],
   "source": []
  }
 ],
 "metadata": {
  "kernelspec": {
   "display_name": "Python 3",
   "language": "python",
   "name": "python3"
  },
  "language_info": {
   "codemirror_mode": {
    "name": "ipython",
    "version": 3
   },
   "file_extension": ".py",
   "mimetype": "text/x-python",
   "name": "python",
   "nbconvert_exporter": "python",
   "pygments_lexer": "ipython3",
   "version": "3.8.8"
  }
 },
 "nbformat": 4,
 "nbformat_minor": 5
}
