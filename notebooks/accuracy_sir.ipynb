{
 "cells": [
  {
   "cell_type": "code",
   "execution_count": 1,
   "id": "ca84fb56",
   "metadata": {},
   "outputs": [],
   "source": [
    "import pandas as pd"
   ]
  },
  {
   "cell_type": "code",
   "execution_count": 10,
   "id": "8bc06e14",
   "metadata": {},
   "outputs": [
    {
     "data": {
      "text/html": [
       "<div>\n",
       "<style scoped>\n",
       "    .dataframe tbody tr th:only-of-type {\n",
       "        vertical-align: middle;\n",
       "    }\n",
       "\n",
       "    .dataframe tbody tr th {\n",
       "        vertical-align: top;\n",
       "    }\n",
       "\n",
       "    .dataframe thead th {\n",
       "        text-align: right;\n",
       "    }\n",
       "</style>\n",
       "<table border=\"1\" class=\"dataframe\">\n",
       "  <thead>\n",
       "    <tr style=\"text-align: right;\">\n",
       "      <th></th>\n",
       "      <th>username</th>\n",
       "      <th>score</th>\n",
       "    </tr>\n",
       "  </thead>\n",
       "  <tbody>\n",
       "    <tr>\n",
       "      <th>0</th>\n",
       "      <td>deepikapadukone</td>\n",
       "      <td>1.0</td>\n",
       "    </tr>\n",
       "    <tr>\n",
       "      <th>1</th>\n",
       "      <td>RobertDowneyJr</td>\n",
       "      <td>1.0</td>\n",
       "    </tr>\n",
       "    <tr>\n",
       "      <th>2</th>\n",
       "      <td>tomhanks</td>\n",
       "      <td>1.0</td>\n",
       "    </tr>\n",
       "    <tr>\n",
       "      <th>3</th>\n",
       "      <td>XabiAlonso</td>\n",
       "      <td>1.0</td>\n",
       "    </tr>\n",
       "    <tr>\n",
       "      <th>4</th>\n",
       "      <td>paulpogba</td>\n",
       "      <td>1.0</td>\n",
       "    </tr>\n",
       "  </tbody>\n",
       "</table>\n",
       "</div>"
      ],
      "text/plain": [
       "          username  score\n",
       "0  deepikapadukone    1.0\n",
       "1   RobertDowneyJr    1.0\n",
       "2         tomhanks    1.0\n",
       "3       XabiAlonso    1.0\n",
       "4        paulpogba    1.0"
      ]
     },
     "execution_count": 10,
     "metadata": {},
     "output_type": "execute_result"
    }
   ],
   "source": [
    "sir_ranks = pd.read_csv(\"./ranks/sir_v2.csv\")\n",
    "sir_ranks = sir_ranks.sort_values(by=\"score\")\n",
    "sir_ranks.head()"
   ]
  },
  {
   "cell_type": "code",
   "execution_count": 12,
   "id": "2a8f1005",
   "metadata": {},
   "outputs": [
    {
     "data": {
      "text/html": [
       "<div>\n",
       "<style scoped>\n",
       "    .dataframe tbody tr th:only-of-type {\n",
       "        vertical-align: middle;\n",
       "    }\n",
       "\n",
       "    .dataframe tbody tr th {\n",
       "        vertical-align: top;\n",
       "    }\n",
       "\n",
       "    .dataframe thead th {\n",
       "        text-align: right;\n",
       "    }\n",
       "</style>\n",
       "<table border=\"1\" class=\"dataframe\">\n",
       "  <thead>\n",
       "    <tr style=\"text-align: right;\">\n",
       "      <th></th>\n",
       "      <th>Name</th>\n",
       "      <th>User Id</th>\n",
       "      <th>Page Rank</th>\n",
       "      <th>In-Degree</th>\n",
       "      <th>Out-Degree</th>\n",
       "    </tr>\n",
       "  </thead>\n",
       "  <tbody>\n",
       "    <tr>\n",
       "      <th>0</th>\n",
       "      <td>deepikapadukone</td>\n",
       "      <td>101695592.0</td>\n",
       "      <td>62.098401</td>\n",
       "      <td>1025</td>\n",
       "      <td>0</td>\n",
       "    </tr>\n",
       "    <tr>\n",
       "      <th>1</th>\n",
       "      <td>SteveMartinToGo</td>\n",
       "      <td>14824849.0</td>\n",
       "      <td>58.411291</td>\n",
       "      <td>203</td>\n",
       "      <td>2</td>\n",
       "    </tr>\n",
       "    <tr>\n",
       "      <th>2</th>\n",
       "      <td>tomhanks</td>\n",
       "      <td>50374439.0</td>\n",
       "      <td>49.720552</td>\n",
       "      <td>418</td>\n",
       "      <td>1</td>\n",
       "    </tr>\n",
       "    <tr>\n",
       "      <th>3</th>\n",
       "      <td>DonRickles</td>\n",
       "      <td>292599839.0</td>\n",
       "      <td>28.454043</td>\n",
       "      <td>9</td>\n",
       "      <td>0</td>\n",
       "    </tr>\n",
       "    <tr>\n",
       "      <th>4</th>\n",
       "      <td>bhorowitz</td>\n",
       "      <td>16242081.0</td>\n",
       "      <td>26.337149</td>\n",
       "      <td>321</td>\n",
       "      <td>12</td>\n",
       "    </tr>\n",
       "  </tbody>\n",
       "</table>\n",
       "</div>"
      ],
      "text/plain": [
       "              Name      User Id  Page Rank  In-Degree  Out-Degree\n",
       "0  deepikapadukone  101695592.0  62.098401       1025           0\n",
       "1  SteveMartinToGo   14824849.0  58.411291        203           2\n",
       "2         tomhanks   50374439.0  49.720552        418           1\n",
       "3       DonRickles  292599839.0  28.454043          9           0\n",
       "4        bhorowitz   16242081.0  26.337149        321          12"
      ]
     },
     "execution_count": 12,
     "metadata": {},
     "output_type": "execute_result"
    }
   ],
   "source": [
    "page_ranks = pd.read_csv(\"./ranks/page_rank_output.csv\")\n",
    "page_ranks = page_ranks.sort_values(by=\"Page Rank\", ascending=False)\n",
    "page_ranks.head()"
   ]
  },
  {
   "cell_type": "code",
   "execution_count": 16,
   "id": "e6b88e46",
   "metadata": {},
   "outputs": [
    {
     "data": {
      "text/html": [
       "<div>\n",
       "<style scoped>\n",
       "    .dataframe tbody tr th:only-of-type {\n",
       "        vertical-align: middle;\n",
       "    }\n",
       "\n",
       "    .dataframe tbody tr th {\n",
       "        vertical-align: top;\n",
       "    }\n",
       "\n",
       "    .dataframe thead th {\n",
       "        text-align: right;\n",
       "    }\n",
       "</style>\n",
       "<table border=\"1\" class=\"dataframe\">\n",
       "  <thead>\n",
       "    <tr style=\"text-align: right;\">\n",
       "      <th></th>\n",
       "      <th>Name</th>\n",
       "      <th>User Id</th>\n",
       "      <th>User Rank(In)</th>\n",
       "      <th>In-Degree</th>\n",
       "      <th>Out-Degree</th>\n",
       "    </tr>\n",
       "  </thead>\n",
       "  <tbody>\n",
       "    <tr>\n",
       "      <th>0</th>\n",
       "      <td>deepikapadukone</td>\n",
       "      <td>1.016956e+08</td>\n",
       "      <td>18.021953</td>\n",
       "      <td>1025</td>\n",
       "      <td>0</td>\n",
       "    </tr>\n",
       "    <tr>\n",
       "      <th>1</th>\n",
       "      <td>iamjohnoliver</td>\n",
       "      <td>3.163891e+08</td>\n",
       "      <td>2.132482</td>\n",
       "      <td>358</td>\n",
       "      <td>0</td>\n",
       "    </tr>\n",
       "    <tr>\n",
       "      <th>2</th>\n",
       "      <td>tomhanks</td>\n",
       "      <td>5.037444e+07</td>\n",
       "      <td>1.552374</td>\n",
       "      <td>418</td>\n",
       "      <td>1</td>\n",
       "    </tr>\n",
       "    <tr>\n",
       "      <th>3</th>\n",
       "      <td>RobertDowneyJr</td>\n",
       "      <td>4.778610e+07</td>\n",
       "      <td>1.228223</td>\n",
       "      <td>298</td>\n",
       "      <td>1</td>\n",
       "    </tr>\n",
       "    <tr>\n",
       "      <th>4</th>\n",
       "      <td>SGanguly99</td>\n",
       "      <td>2.708915e+09</td>\n",
       "      <td>0.654428</td>\n",
       "      <td>346</td>\n",
       "      <td>5</td>\n",
       "    </tr>\n",
       "  </tbody>\n",
       "</table>\n",
       "</div>"
      ],
      "text/plain": [
       "              Name       User Id  User Rank(In)  In-Degree  Out-Degree\n",
       "0  deepikapadukone  1.016956e+08      18.021953       1025           0\n",
       "1    iamjohnoliver  3.163891e+08       2.132482        358           0\n",
       "2         tomhanks  5.037444e+07       1.552374        418           1\n",
       "3   RobertDowneyJr  4.778610e+07       1.228223        298           1\n",
       "4       SGanguly99  2.708915e+09       0.654428        346           5"
      ]
     },
     "execution_count": 16,
     "metadata": {},
     "output_type": "execute_result"
    }
   ],
   "source": [
    "user_ranks = pd.read_csv(\"./ranks/user_rank_1_output.csv\")\n",
    "user_ranks = user_ranks.sort_values(by=\"User Rank(In)\", ascending=False)\n",
    "user_ranks.head()"
   ]
  },
  {
   "cell_type": "markdown",
   "id": "f6065e1e",
   "metadata": {},
   "source": [
    "# measuring with \"Page Rank\""
   ]
  },
  {
   "cell_type": "code",
   "execution_count": 35,
   "id": "13076d42",
   "metadata": {},
   "outputs": [],
   "source": [
    "test = []\n",
    "pred = []\n",
    "for i in range(100):\n",
    "    test.append(page_ranks['Name'][i])\n",
    "    pred.append(sir_ranks['username'][i])"
   ]
  },
  {
   "cell_type": "code",
   "execution_count": 38,
   "id": "d3ffddad",
   "metadata": {},
   "outputs": [
    {
     "name": "stdout",
     "output_type": "stream",
     "text": [
      "33 users matched in top 100 of page rank and sir\n"
     ]
    }
   ],
   "source": [
    "count = 0\n",
    "for i in test:\n",
    "    if i in pred:\n",
    "        count += 1\n",
    "print(count, \"users matched in top 100 of page rank and sir\")"
   ]
  },
  {
   "cell_type": "markdown",
   "id": "80bf98ab",
   "metadata": {},
   "source": [
    "# measuring with \"User Rank\""
   ]
  },
  {
   "cell_type": "code",
   "execution_count": 39,
   "id": "ab75ef7b",
   "metadata": {},
   "outputs": [
    {
     "name": "stdout",
     "output_type": "stream",
     "text": [
      "40 users matched in top 100 of user rank and sir\n"
     ]
    }
   ],
   "source": [
    "test2 = []\n",
    "\n",
    "for i in range(100):\n",
    "    test2.append(user_ranks['Name'][i])\n",
    "    pred.append(sir_ranks['username'][i])\n",
    "\n",
    "count = 0\n",
    "for i in test2:\n",
    "    if i in pred:\n",
    "        count += 1\n",
    "print(count, \"users matched in top 100 of user rank and sir\")"
   ]
  },
  {
   "cell_type": "code",
   "execution_count": null,
   "id": "dd880bfd",
   "metadata": {},
   "outputs": [],
   "source": []
  }
 ],
 "metadata": {
  "kernelspec": {
   "display_name": "Python 3",
   "language": "python",
   "name": "python3"
  },
  "language_info": {
   "codemirror_mode": {
    "name": "ipython",
    "version": 3
   },
   "file_extension": ".py",
   "mimetype": "text/x-python",
   "name": "python",
   "nbconvert_exporter": "python",
   "pygments_lexer": "ipython3",
   "version": "3.8.8"
  }
 },
 "nbformat": 4,
 "nbformat_minor": 5
}
